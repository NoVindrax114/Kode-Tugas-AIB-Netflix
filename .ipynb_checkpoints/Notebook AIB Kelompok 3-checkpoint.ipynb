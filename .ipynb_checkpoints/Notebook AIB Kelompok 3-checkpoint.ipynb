{
 "cells": [
  {
   "cell_type": "code",
   "execution_count": null,
   "metadata": {},
   "outputs": [],
   "source": [
    "# Tugas Pengembangan Sistem Intelijen (KBS) menggunakan Data Science\n",
    "## Last Updated 17 November 2021\n",
    "\n",
    "## Kelompok 3 II4402 Kecerdasan Buatan untuk Bisnis\n",
    "## 18218014 Novindra Nurrosyid Al Haqi\n",
    "## 18218030 Figo Agil Alunjati\n",
    "## 18218037 Wita Dewisari Tasya"
   ]
  },
  {
   "cell_type": "code",
   "execution_count": null,
   "metadata": {},
   "outputs": [],
   "source": [
    "## Business Understanding"
   ]
  },
  {
   "cell_type": "code",
   "execution_count": null,
   "metadata": {},
   "outputs": [],
   "source": [
    "## Data Understanding"
   ]
  },
  {
   "cell_type": "code",
   "execution_count": 10,
   "metadata": {},
   "outputs": [
    {
     "name": "stdout",
     "output_type": "stream",
     "text": [
      "Ukuran Data Awal\n",
      "Dataframe 1  (11958, 11)\n",
      "Dataframe 2  (681, 9)\n",
      "Dataframe 3  (674, 49)\n",
      "Tidak dilakukan data cleaning karena data yang digunakan sudah dicek dan sudah dapat langsung digunakan\n",
      "Ukuran Data setelah Merging\n",
      "(9787, 67)\n",
      "\n",
      "Contoh 5 Baris Pertama Dataset Setelah Merge\n",
      "       title    year                 genre  \\\n",
      "0  The Woods  2020.0  Polish TV Programmes   \n",
      "1  The Woods  2020.0  Polish TV Programmes   \n",
      "2  The Woods  2020.0  Polish TV Programmes   \n",
      "3  The Woods  2020.0  Polish TV Programmes   \n",
      "4  The Woods  2020.0  Polish TV Programmes   \n",
      "\n",
      "                                               actor  imdb_id_x     kind_x  \\\n",
      "0  Grzegorz Damięcki,Agnieszka Grochowska,Hubert ...  1910645.0  tv series   \n",
      "1  Grzegorz Damięcki,Agnieszka Grochowska,Hubert ...  1910645.0  tv series   \n",
      "2  Grzegorz Damięcki,Agnieszka Grochowska,Hubert ...  1910645.0  tv series   \n",
      "3  Grzegorz Damięcki,Agnieszka Grochowska,Hubert ...  1910645.0  tv series   \n",
      "4  Grzegorz Damięcki,Agnieszka Grochowska,Hubert ...  1910645.0  tv series   \n",
      "\n",
      "             matched_by  rating_x  votes_x  imdb_id_y  ...     kind_y  \\\n",
      "0  year and actor match       6.6   2962.0    1910645  ...  tv series   \n",
      "1  year and actor match       6.6   2962.0    1910645  ...  tv series   \n",
      "2  year and actor match       6.6   2962.0    1910645  ...  tv series   \n",
      "3  year and actor match       6.6   2962.0    1910645  ...  tv series   \n",
      "4  year and actor match       6.6   2962.0    1910645  ...  tv series   \n",
      "\n",
      "   series_imdb_id  season  episode  episode_imdb_id  original_air_date  \\\n",
      "0       1910645.0     1.0      1.0       12308240.0       12 Jun. 2020   \n",
      "1       1910645.0     1.0      2.0       12500544.0       12 Jun. 2020   \n",
      "2       1910645.0     1.0      3.0       12500584.0       12 Jun. 2020   \n",
      "3       1910645.0     1.0      4.0       12502942.0       12 Jun. 2020   \n",
      "4       1910645.0     1.0      5.0       12502946.0       12 Jun. 2020   \n",
      "\n",
      "   rating_y  votes_y  runtime                        genres  \n",
      "0       6.9    171.0      NaN  Crime|Drama|Mystery|Thriller  \n",
      "1       6.8    109.0      NaN  Crime|Drama|Mystery|Thriller  \n",
      "2       6.9     99.0      NaN  Crime|Drama|Mystery|Thriller  \n",
      "3       7.0     96.0      NaN  Crime|Drama|Mystery|Thriller  \n",
      "4       7.1     95.0      NaN  Crime|Drama|Mystery|Thriller  \n",
      "\n",
      "[5 rows x 67 columns]\n"
     ]
    }
   ],
   "source": [
    "### Visualisasi Data\n",
    "\n",
    "### KAMUS ###\n",
    "#### df1 = OC_Detail_DF\n",
    "#### df2 = OC_DF\n",
    "#### df3 = OC_user_rating_DF\n",
    "\n",
    "#### Import Library yang Dibutuhkan\n",
    "import pandas as pd\n",
    "import matplotlib.pyplot as plt\n",
    "\n",
    "#### Import Data\n",
    "df1 = pd.read_csv(\"OC_Detail_DF.csv\")\n",
    "df2 = pd.read_csv(\"OC_DF.csv\")\n",
    "df3 = pd.read_csv(\"OC_user_rating_DF.csv\")\n",
    "\n",
    "#### Ukuran Data\n",
    "print(\"Ukuran Data Awal\")\n",
    "print(\"Dataframe 1 \", df1.shape)\n",
    "print(\"Dataframe 2 \", df2.shape)\n",
    "print(\"Dataframe 3 \", df3.shape)\n",
    "print(\"Tidak dilakukan data cleaning karena data yang digunakan sudah dicek dan sudah dapat langsung digunakan\")\n",
    "\n",
    "##### Merging Dataframe\n",
    "df = pd.merge(df2, df3, on=\"title\")\n",
    "df1 = df1.rename({\"series_name\":\"title\"}, axis='columns')\n",
    "df = pd.merge(df, df1, on=\"title\")\n",
    "print (\"Ukuran Data setelah Merging\")\n",
    "print (df.shape)\n",
    "\n",
    "print (\"\")\n",
    "print (\"Contoh 5 Baris Pertama Dataset Setelah Merge\")\n",
    "print (df [:5])"
   ]
  },
  {
   "cell_type": "code",
   "execution_count": null,
   "metadata": {},
   "outputs": [],
   "source": []
  }
 ],
 "metadata": {
  "kernelspec": {
   "display_name": "Python 3",
   "language": "python",
   "name": "python3"
  },
  "language_info": {
   "codemirror_mode": {
    "name": "ipython",
    "version": 3
   },
   "file_extension": ".py",
   "mimetype": "text/x-python",
   "name": "python",
   "nbconvert_exporter": "python",
   "pygments_lexer": "ipython3",
   "version": "3.7.3"
  }
 },
 "nbformat": 4,
 "nbformat_minor": 2
}
