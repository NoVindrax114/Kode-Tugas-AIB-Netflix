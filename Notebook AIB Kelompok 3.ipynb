{
 "cells": [
  {
   "cell_type": "code",
   "execution_count": null,
   "metadata": {},
   "outputs": [],
   "source": [
    "# Tugas Pengembangan Sistem Intelijen (KBS) menggunakan Data Science\n",
    "## Last Updated 17 November 2021\n",
    "\n",
    "## Kelompok 3 II4402 Kecerdasan Buatan untuk Bisnis\n",
    "## 18218014 Novindra Nurrosyid Al Haqi\n",
    "## 18218030 Figo Agil Alunjati\n",
    "## 18218037 Wita Dewisari Tasya"
   ]
  },
  {
   "cell_type": "code",
   "execution_count": null,
   "metadata": {},
   "outputs": [],
   "source": [
    "## Business Understanding"
   ]
  },
  {
   "cell_type": "code",
   "execution_count": null,
   "metadata": {},
   "outputs": [],
   "source": [
    "## Data Understanding"
   ]
  },
  {
   "cell_type": "code",
   "execution_count": null,
   "metadata": {},
   "outputs": [],
   "source": [
    "### Visualisasi Data\n",
    "\n",
    "### KAMUS ###\n",
    "#### df1 = OC_Detail_DF\n",
    "#### df2 = OC_DF\n",
    "#### df3 = OC_user_rating_DF\n",
    "\n",
    "#### Import Library yang Dibutuhkan\n",
    "import pandas as pd\n",
    "import matplotlib.pyplot as plt\n",
    "\n",
    "#### Import Data\n",
    "df1 = pd.read_csv(\"OC_Detail_DF.csv\")\n",
    "df2 = pd.read_csv(\"OC_DF.csv\")\n",
    "df3 = pd.read_csv(\"OC_user_rating_DF.csv\")\n",
    "\n",
    "#### Ukuran Data\n",
    "print(\"Ukuran Data Awal\")\n",
    "print(\"Dataframe 1 \", df1.shape)\n",
    "print(\"Dataframe 2 \", df2.shape)\n",
    "print(\"Dataframe 3 \", df3.shape)\n",
    "print(\"Tidak dilakukan data cleaning karena data yang digunakan sudah dicek dan sudah dapat langsung digunakan\")\n",
    "\n",
    "##### Merging Dataframe\n",
    "df = pd.merge(df2, df3, on=\"title\")\n",
    "df1 = df1.rename({\"series_name\":\"title\"}, axis='columns')\n",
    "df = pd.merge(df, df1, on=\"title\")\n",
    "print (\"Ukuran Data setelah Merging\")\n",
    "print (df.shape)\n",
    "\n",
    "print (\"\")\n",
    "print (\"Contoh 5 Baris Pertama Dataset Setelah Merge\")\n",
    "print (df [:5])"
   ]
  },
  {
   "cell_type": "code",
   "execution_count": null,
   "metadata": {},
   "outputs": [],
   "source": []
  }
 ],
 "metadata": {
  "kernelspec": {
   "display_name": "Python 3",
   "language": "python",
   "name": "python3"
  },
  "language_info": {
   "codemirror_mode": {
    "name": "ipython",
    "version": 3
   },
   "file_extension": ".py",
   "mimetype": "text/x-python",
   "name": "python",
   "nbconvert_exporter": "python",
   "pygments_lexer": "ipython3",
   "version": "3.7.3"
  }
 },
 "nbformat": 4,
 "nbformat_minor": 2
}
